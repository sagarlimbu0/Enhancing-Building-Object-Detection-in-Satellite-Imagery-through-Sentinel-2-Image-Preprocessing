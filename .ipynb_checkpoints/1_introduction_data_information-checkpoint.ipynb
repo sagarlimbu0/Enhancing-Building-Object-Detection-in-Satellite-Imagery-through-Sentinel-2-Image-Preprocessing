{
 "cells": [
  {
   "cell_type": "markdown",
   "id": "801f21d3",
   "metadata": {},
   "source": [
    "## objective:\n",
    "### Risk assessment of Flood in coastal regions\n",
    "    Determining the risk assessment on vulnerable regions. Idenitiying the building labels using satellite imagery. Using primary predictors such as physical characteristics including topographical, geographical, and meteorological factors; such as altitude, slope, land use, and rainfall\n",
    "\n",
    "- NOTE: this project built based on the tutorial provided by: https://www.climatechange.ai/tutorials?"
   ]
  },
  {
   "cell_type": "markdown",
   "id": "1cdf10d7",
   "metadata": {},
   "source": [
    "### Data sources:\n",
    "\n",
    "- Using satellite imagery like `Sentnel-2` which includes 9 channel bands. These channel bands includes; \n",
    "    * 2-Blue, 3-Green\n",
    "    * 4-Red\n",
    "    * 5-RedEdge\n",
    "    * 6-RedEdge2\n",
    "    * 7-RedEdge38-NIR\n",
    "    * 11-SWIR1\n",
    "    * 12-SWIR2. \n",
    "- Notice that band 8A-RedEdge is not supplied. These images are not normalised yet, but we will see how to work and visualise them later on."
   ]
  },
  {
   "cell_type": "markdown",
   "id": "8775e115",
   "metadata": {},
   "source": [
    "## Sentinel-1:\n",
    "\n",
    "SENTINEL-1 is an imaging radar mission providing continuous all-weather, day-and-night imagery at C-band at a resolution of about 10m every 12 days. Sentinel-1 is a phase-preserving dual polarisation SAR system. It can transmit a signal in either horizontal (H) or vertical (V) polarisation, and then receive in both H and V polarisations.\n",
    "\n",
    "SAR sensors are able to detect flooding because flat surfaces reflect (acts as a specular reflector) the signal away from the sensor, decreasing the amount of returned radiation. This causes relatively dark pixels in radar data for water areas which contrast with non-water areas.\n",
    "\n",
    "Speckle is a general phenomenon in SAR imagery caused by the interaction of the out-of-phase waves reflected from a target resulting in a salt-and-pepper pattern. Presence of speckle in SAR images degrades the interpretability of the land features in the data. Speckle removal is necessary for quantitative, analysis and there are various filters but there exists a tradeoff between speckle removal and resolution. The images we use have already been despeckled and processed to dB values.\n",
    "\n",
    "<br>\n",
    "<img src='https://drive.google.com/uc?id=1tpUkjbFqcxaMFG3q8mWwvMnX-WPLS3r3' width=\"600\"/><br>\n",
    "<em>SAR image displaying the VV component as a colour range. Gaza, Egypt, and Israel.</em>\n",
    "<br><br>"
   ]
  },
  {
   "cell_type": "markdown",
   "id": "83601abb",
   "metadata": {},
   "source": [
    "### Sentinel-2: Multispectral data\n",
    "\n",
    "SENTINEL-2 is a wide-swath, high-resolution, multi-spectral imaging mission, supporting Copernicus Land Monitoring studies, including the monitoring of vegetation, soil and water cover, as well as observation of inland waterways and coastal areas. Most importantly for us is the MultiSpectral Instrument (MSI), which samples 13 spectral bands: four bands at 10 metres, six bands at 20 metres and three bands at 60 metres spatial resolution. These include the Blue, Green and Red bands which correspond to how humans see the world but also Near Infrared (NIR) and Short-wave Infrared (SWIR) which can be used to monitor vegetation, geological features and much more.\n",
    "\n",
    "Sentinel-2 images are very valuable for population density estimations and the mapping of vulnerable areas. The infrared bands are effective to differentiate between different types of land use while the Red band is used for mapping man-made structures. The high resolution RGB images can be used to detect schools, hospitals and other vulnerable areas.\n",
    "\n",
    "The bands in this tutorial are ordered like this:\n",
    "0. Blue\n",
    "1. Green\n",
    "2. Red\n",
    "3. RedEdge 1\n",
    "4. RedEdge 2\n",
    "5. RedEgde 3\n",
    "6. Near-Infrared\n",
    "7. SWIR 1\n",
    "8. SWIR 2\n",
    "\n",
    "<img src='https://drive.google.com/uc?id=1Uj6bTFDFMpn_s_ksgn4WAQKYK-Ct9jMD' width=\"600\"/><br>\n",
    "<em>RGB image from the MSI instrument. East Jerusalem.</em>\n",
    "<br><br>"
   ]
  },
  {
   "cell_type": "code",
   "execution_count": null,
   "id": "2e59be75",
   "metadata": {},
   "outputs": [],
   "source": []
  }
 ],
 "metadata": {
  "kernelspec": {
   "display_name": "Python 3 (ipykernel)",
   "language": "python",
   "name": "python3"
  },
  "language_info": {
   "codemirror_mode": {
    "name": "ipython",
    "version": 3
   },
   "file_extension": ".py",
   "mimetype": "text/x-python",
   "name": "python",
   "nbconvert_exporter": "python",
   "pygments_lexer": "ipython3",
   "version": "3.9.12"
  }
 },
 "nbformat": 4,
 "nbformat_minor": 5
}
