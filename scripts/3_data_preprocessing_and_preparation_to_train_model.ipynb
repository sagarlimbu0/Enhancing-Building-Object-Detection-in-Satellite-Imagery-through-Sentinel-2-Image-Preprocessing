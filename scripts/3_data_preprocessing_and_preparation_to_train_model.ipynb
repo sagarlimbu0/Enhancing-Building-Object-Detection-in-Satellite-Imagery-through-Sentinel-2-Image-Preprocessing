{
 "cells": [
  {
   "cell_type": "markdown",
   "id": "64b83ca4",
   "metadata": {},
   "source": [
    "## Objective:\n",
    "\n",
    "### Data Preparation for input to Convolutional Neural Network\n",
    "    For this task, as we know Computer Vision requires the processing of `LARGE` amounts of image data. This can be challenging when dealing with high-resolution images containing `millions of pixels`\n",
    "\n",
    "**METHOD**\n",
    "- We can divide `IMAGE` into smaller `sub-regions` or `patches`. These patches can be retrieved or extracted from the existing image by applying `sliding` windows or by randomly selecting `regions` of the image.\n",
    "- We will use `butteo` library to generate `PATCHES` from which we can `group` them into Batches. These `Batches` are then feed into our CNN model during training.\n",
    "- One major advantage of `generating patches` allows us to reduce the computation memory that is required to process the image data"
   ]
  },
  {
   "cell_type": "markdown",
   "id": "9dec4f04",
   "metadata": {},
   "source": [
    "### Avoiding Data Leakage:\n",
    "- We need to be careful while generating patches/sub-regions from the selected region, it is important to be aware since original image can be sampled multiple times, if overlaps are used. This means patches are not always independent of each other and might partially overlap. This is especially important to take into account when creating the test set, as it is essential that it is not contaminated with training data.\n",
    "- We can easily create the patches by using the array_to_patches function from the buteo library while specifying the size of the resulting arrays."
   ]
  },
  {
   "cell_type": "code",
   "execution_count": null,
   "id": "4a1aee37",
   "metadata": {},
   "outputs": [],
   "source": []
  }
 ],
 "metadata": {
  "kernelspec": {
   "display_name": "Python 3 (ipykernel)",
   "language": "python",
   "name": "python3"
  },
  "language_info": {
   "codemirror_mode": {
    "name": "ipython",
    "version": 3
   },
   "file_extension": ".py",
   "mimetype": "text/x-python",
   "name": "python",
   "nbconvert_exporter": "python",
   "pygments_lexer": "ipython3",
   "version": "3.9.12"
  }
 },
 "nbformat": 4,
 "nbformat_minor": 5
}
